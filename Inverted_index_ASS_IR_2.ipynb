{
  "nbformat": 4,
  "nbformat_minor": 0,
  "metadata": {
    "colab": {
      "provenance": []
    },
    "kernelspec": {
      "name": "python3",
      "display_name": "Python 3"
    },
    "language_info": {
      "name": "python"
    }
  },
  "cells": [
    {
      "cell_type": "code",
      "source": [
        "\n",
        "import re\n",
        "from collections import defaultdict\n",
        "\n",
        "# Sample documents\n",
        "documents = {\n",
        "    1: \"This is the first document. It contains some words.\",\n",
        "    2: \"This is the second document. It also contains words.\",\n",
        "    3: \"The third document is different from the first two.\",\n",
        "    4: \"Inverted index is essential for document retrieval.\",\n",
        "}\n",
        "\n",
        "# Preprocess and tokenize text\n",
        "def preprocess(text):\n",
        "    return re.findall(r'\\w+', text.lower())\n",
        "\n",
        "# Create inverted index\n",
        "inverted_index = defaultdict(list)\n",
        "for doc_id, document in documents.items():\n",
        "    for token in preprocess(document):\n",
        "        inverted_index[token].append(doc_id)\n",
        "\n",
        "# Retrieve documents\n",
        "def retrieve_documents(query):\n",
        "    result = [set(inverted_index[token]) for token in preprocess(query) if token in inverted_index]\n",
        "    return set.intersection(*result) if result else set()\n",
        "\n",
        "# Query and retrieve documents\n",
        "query = input(\"Enter query: \")\n",
        "print(\"Query:\", query)\n",
        "print(\"Matching Documents:\", retrieve_documents(query))\n",
        "print(f\"Inverted index :{inverted_index}\")"
      ],
      "metadata": {
        "colab": {
          "base_uri": "https://localhost:8080/"
        },
        "id": "TsHk6qlX0WNy",
        "outputId": "f7636288-01ab-4eac-a786-d6bf88b8efc3"
      },
      "execution_count": 4,
      "outputs": [
        {
          "output_type": "stream",
          "name": "stdout",
          "text": [
            "Enter query: words\n",
            "Query: words\n",
            "Matching Documents: {1, 2}\n",
            "Inverted index :defaultdict(<class 'list'>, {'this': [1, 2], 'is': [1, 2, 3, 4], 'the': [1, 2, 3, 3], 'first': [1, 3], 'document': [1, 2, 3, 4], 'it': [1, 2], 'contains': [1, 2], 'some': [1], 'words': [1, 2], 'second': [2], 'also': [2], 'third': [3], 'different': [3], 'from': [3], 'two': [3], 'inverted': [4], 'index': [4], 'essential': [4], 'for': [4], 'retrieval': [4]})\n"
          ]
        }
      ]
    },
    {
      "cell_type": "code",
      "source": [],
      "metadata": {
        "id": "Ip07VdQBkknK"
      },
      "execution_count": null,
      "outputs": []
    }
  ]
}