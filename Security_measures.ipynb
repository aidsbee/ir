{
  "cells": [
    {
      "cell_type": "code",
      "execution_count": null,
      "id": "bd6ace60",
      "metadata": {
        "id": "bd6ace60"
      },
      "outputs": [],
      "source": [
        "import hashlib  # For hashing to ensure data integrity\n",
        "from cryptography.fernet import Fernet  # For encryption\n",
        "import random  # For simulating sensor data\n",
        "import numpy as np"
      ]
    },
    {
      "cell_type": "code",
      "execution_count": null,
      "id": "2d36fa96",
      "metadata": {
        "id": "2d36fa96"
      },
      "outputs": [],
      "source": [
        "key = Fernet.generate_key()\n",
        "cipher = Fernet(key)"
      ]
    },
    {
      "cell_type": "code",
      "execution_count": null,
      "id": "0a15b9bd",
      "metadata": {
        "id": "0a15b9bd",
        "outputId": "e829c54e-572a-440b-a804-b19f61df949c"
      },
      "outputs": [
        {
          "name": "stdout",
          "output_type": "stream",
          "text": [
            "Original Temperature :  57\n"
          ]
        }
      ],
      "source": [
        "temp = np.random.randint(30,60)\n",
        "print(\"Original Temperature : \", temp)"
      ]
    },
    {
      "cell_type": "code",
      "execution_count": null,
      "id": "b4bf9d0f",
      "metadata": {
        "id": "b4bf9d0f",
        "outputId": "2709805a-ade1-4eb9-9d3b-a9d6c1c4495c"
      },
      "outputs": [
        {
          "name": "stdout",
          "output_type": "stream",
          "text": [
            "Encrypted Temperature:  b'gAAAAABnIdcU1JIcmLw7oe6OlC_X-R2opbj9lQNDNTE8BusLMx4Jd7Be9TBnOGXWplJeucDIQZuhuDB2-v5C4hBTz2BkQjexCw=='\n"
          ]
        }
      ],
      "source": [
        "enc = cipher.encrypt(str(temp).encode())\n",
        "print(\"Encrypted Temperature: \",enc)"
      ]
    },
    {
      "cell_type": "code",
      "execution_count": null,
      "id": "4a4c401c",
      "metadata": {
        "id": "4a4c401c",
        "outputId": "b3bf492a-0eaf-4522-b139-e528d5b02555"
      },
      "outputs": [
        {
          "name": "stdout",
          "output_type": "stream",
          "text": [
            "Decrypted Temperature:  57\n"
          ]
        }
      ],
      "source": [
        "dec = cipher.decrypt(enc).decode()\n",
        "print(\"Decrypted Temperature: \",dec)"
      ]
    },
    {
      "cell_type": "code",
      "execution_count": null,
      "id": "13d687fb",
      "metadata": {
        "id": "13d687fb",
        "outputId": "f2c632dd-1047-4e7e-a5ab-e50fa9ba3140"
      },
      "outputs": [
        {
          "name": "stdout",
          "output_type": "stream",
          "text": [
            "Data Integrity is verified\n"
          ]
        }
      ],
      "source": [
        "original_hash = hash(str(temp))\n",
        "decrypted_hash = hash(dec)\n",
        "\n",
        "if original_hash == decrypted_hash:\n",
        "    print(\"Data Integrity is verified\")\n",
        "else:\n",
        "    print(\"Data Integrity is not verified\")"
      ]
    },
    {
      "cell_type": "code",
      "execution_count": null,
      "id": "1218fdb4",
      "metadata": {
        "id": "1218fdb4"
      },
      "outputs": [],
      "source": []
    }
  ],
  "metadata": {
    "kernelspec": {
      "display_name": "Python 3 (ipykernel)",
      "language": "python",
      "name": "python3"
    },
    "language_info": {
      "codemirror_mode": {
        "name": "ipython",
        "version": 3
      },
      "file_extension": ".py",
      "mimetype": "text/x-python",
      "name": "python",
      "nbconvert_exporter": "python",
      "pygments_lexer": "ipython3",
      "version": "3.10.9"
    },
    "colab": {
      "provenance": []
    }
  },
  "nbformat": 4,
  "nbformat_minor": 5
}